{
 "cells": [
  {
   "cell_type": "markdown",
   "id": "25197dc5",
   "metadata": {},
   "source": [
    "# 1 LLM Sentiment Analysis (0.5 marks)\n",
    "\n",
    "DataSentinel Inc. is a tech company specializing in building advanced natural language processing (NLP) solutions. Their latest project involves integrating an AI-powered sentiment analysis module into an internal monitoring dashboard. The goal is to automatically classify large volumes of unstructured feedback and text data from various sources as either GOOD, BAD, or NEUTRAL. As part of the quality assurance process, the development team needs to test the integration with a series of sample inputs—even ones that may not represent coherent text—to ensure that the system routes and processes the data correctly.\n",
    "\n",
    "Before rolling out the live system, the team creates a test harness using Python. The harness employs the httpx library to send POST requests to OpenAI's API. For this proof-of-concept, the team uses the dummy model gpt-4o-mini along with a dummy API key in the Authorization header to simulate real API calls.\n",
    "\n",
    "One of the test cases involves sending a sample piece of meaningless text:\n",
    "\n",
    "L DwKppq0 Wh 0ydG rg My6u  mg7w mjsn  vjiP 7 joP Y\n",
    "Write a Python program that uses httpx to send a POST request to OpenAI's API to analyze the sentiment of this (meaningless) text into GOOD, BAD or NEUTRAL. Specifically:\n",
    "\n",
    "Make sure you pass an Authorization header with dummy API key.\n",
    "Use gpt-4o-mini as the model.\n",
    "The first message must be a system message asking the LLM to analyze the sentiment of the text. Make sure you mention GOOD, BAD, or NEUTRAL as the categories.\n",
    "The second message must be exactly the text contained above.\n",
    "This test is crucial for DataSentinel Inc. as it validates both the API integration and the correctness of message formatting in a controlled environment. Once verified, the same mechanism will be used to process genuine customer feedback, ensuring that the sentiment analysis module reliably categorizes data as GOOD, BAD, or NEUTRAL. This reliability is essential for maintaining high operational standards and swift response times in real-world applications.\n",
    "\n",
    "Note: This uses a dummy httpx library, not the real one. You can only use:\n",
    "\n",
    "response = httpx.get(url, **kwargs)\n",
    "response = httpx.post(url, json=None, **kwargs)\n",
    "response.raise_for_status()\n",
    "response.json()\n",
    "Code\n"
   ]
  },
  {
   "cell_type": "code",
   "execution_count": null,
   "id": "b70c046b",
   "metadata": {
    "vscode": {
     "languageId": "plaintext"
    }
   },
   "outputs": [],
   "source": []
  },
  {
   "cell_type": "markdown",
   "id": "1651aacd",
   "metadata": {},
   "source": [
    "2 LLM Token Cost (0.5 marks)\n",
    "LexiSolve Inc. is a startup that delivers a conversational AI platform to enterprise clients. The system leverages OpenAI’s language models to power a variety of customer service, sentiment analysis, and data extraction features. Because pricing for these models is based on the number of tokens processed—and strict token limits apply—accurate token accounting is critical for managing costs and ensuring system stability.\n",
    "\n",
    "To optimize operational costs and prevent unexpected API overages, the engineering team at LexiSolve has developed an internal diagnostic tool that simulates and measures token usage for typical prompts sent to the language model.\n",
    "\n",
    "One specific test case an understanding of text tokenization. Your task is to generate data for that test case.\n",
    "\n",
    "Specifically, when you make a request to OpenAI's GPT-4o-Mini with just this user message:\n",
    "\n",
    "List only the valid English words from these: j8LVgEuoKH, E, 7gYchHR, ORSi6mbir, NhZD, EDDA3, H398, YEbmeh7RbM, 2akHub9n, R, 4Qfr, g, Hy, 5YlJH, 3DY, Q9, xiApzopjih, V54uH4R0, VOkrWdG, sKD0, pK\n",
    "... how many input tokens does it use up?\n",
    "\n",
    "Number of tokens:\n",
    "Remember: indicating that this is a user message takes up a few extra tokens. You actually need to make the request to get the answer."
   ]
  },
  {
   "cell_type": "markdown",
   "id": "2725f5f4",
   "metadata": {},
   "source": []
  },
  {
   "cell_type": "code",
   "execution_count": null,
   "id": "05c21ed5",
   "metadata": {
    "vscode": {
     "languageId": "plaintext"
    }
   },
   "outputs": [],
   "source": [
    "3 Generate addresses with LLMs (1 mark)\n",
    "RapidRoute Solutions is a logistics and delivery company that relies on accurate and standardized address data to optimize package routing. Recently, they encountered challenges with manually collecting and verifying new addresses for testing their planning software. To overcome this, the company decided to create an automated address generator using a language model, which would provide realistic, standardized U.S. addresses that could be directly integrated into their system.\n",
    "\n",
    "The engineering team at RapidRoute is tasked with designing a service that uses OpenAI's GPT-4o-Mini model to generate fake but plausible address data. The addresses must follow a strict format, which is critical for downstream processes such as geocoding, routing, and verification against customer databases. For consistency and validation, the development team requires that the addresses be returned as structured JSON data with no additional properties that could confuse their parsers.\n",
    "\n",
    "As part of the integration process, you need to write the body of the request to an OpenAI chat completion call that:\n",
    "\n",
    "Uses model gpt-4o-mini\n",
    "Has a system message: Respond in JSON\n",
    "Has a user message: Generate 10 random addresses in the US\n",
    "Uses structured outputs to respond with an object addresses which is an array of objects with required fields: county (string) country (string) zip (number) .\n",
    "Sets additionalProperties to false to prevent additional properties.\n",
    "Note that you don't need to run the request or use an API key; your task is simply to write the correct JSON body.\n",
    "\n",
    "What is the JSON body we should send to https://api.openai.com/v1/chat/completions for this? (No need to run it or to use an API key. Just write the body of the request below.)\n",
    "There's no answer box above. Figure out how to enable it. That's part of the test."
   ]
  },
  {
   "cell_type": "code",
   "execution_count": null,
   "id": "af987326",
   "metadata": {
    "vscode": {
     "languageId": "plaintext"
    }
   },
   "outputs": [],
   "source": []
  },
  {
   "cell_type": "markdown",
   "id": "02d60c22",
   "metadata": {},
   "source": [
    "4 LLM Vision (1 mark)\n",
    "Acme Global Solutions manages hundreds of invoices from vendors every month. To streamline their accounts payable process, the company is developing an automated document processing system. This system uses a computer vision model to extract useful text from scanned invoice images. Critical pieces of data such as vendor email addresses, invoice or transaction numbers, and other details are embedded within these documents.\n",
    "\n",
    "Your team is tasked with integrating OpenAI's vision model into the invoice processing workflow. The chosen model, gpt-4o-mini, is capable of analyzing both text and image inputs simultaneously. When an invoice is received—for example, an invoice image may contain a vendor email like alice.brown@acmeglobal.com and a transaction number such as 34921. The system needs to extract all embedded text to automatically populate the vendor management system.\n",
    "\n",
    "The automated process will send a POST request to OpenAI's API with two inputs in a single user message:\n",
    "\n",
    "Text: A simple instruction \"Extract text from this image.\"\n",
    "Image URL: A base64 URL representing the invoice image that might include the email and the transaction number among other details.\n",
    "Here is an example invoice image:\n",
    "\n",
    "\n",
    "\n",
    "Write just the JSON body (not the URL, nor headers) for the POST request that sends these two pieces of content (text and image URL) to the OpenAI API endpoint.\n",
    "\n",
    "Use gpt-4o-mini as the model.\n",
    "Send a single user message to the model that has a text and an image_url content (in that order).\n",
    "The text content should be Extract text from this image.\n",
    "Send the image_url as a base64 URL of the image above. CAREFUL: Do not modify the image.\n",
    "Write your JSON body here:"
   ]
  },
  {
   "cell_type": "code",
   "execution_count": null,
   "id": "87368aa8",
   "metadata": {
    "vscode": {
     "languageId": "plaintext"
    }
   },
   "outputs": [],
   "source": []
  },
  {
   "cell_type": "markdown",
   "id": "50826554",
   "metadata": {},
   "source": [
    "5 LLM Embeddings (0.5 marks)\n",
    "SecurePay, a leading fintech startup, has implemented an innovative feature to detect and prevent fraudulent activities in real time. As part of its security suite, the system analyzes personalized transaction messages by converting them into embeddings. These embeddings are compared against known patterns of legitimate and fraudulent messages to flag unusual activity.\n",
    "\n",
    "Imagine you are working on the SecurePay team as a junior developer tasked with integrating the text embeddings feature into the fraud detection module. When a user initiates a transaction, the system sends a personalized verification message to the user's registered email address. This message includes the user's email address and a unique transaction code (a randomly generated number). Here are 2 verification messages:\n",
    "\n",
    "Dear user, please verify your transaction code 76997 sent to 22f1001316@ds.study.iitm.ac.in\n",
    "Dear user, please verify your transaction code 68824 sent to 22f1001316@ds.study.iitm.ac.in\n",
    "The goal is to capture this message, convert it into a meaningful embedding using OpenAI's text-embedding-3-small model, and subsequently use the embedding in a machine learning model to detect anomalies.\n",
    "\n",
    "Your task is to write the JSON body for a POST request that will be sent to the OpenAI API endpoint to obtain the text embedding for the 2 given personalized transaction verification messages above. This will be sent to the endpoint https://api.openai.com/v1/embeddings.\n",
    "\n",
    "Write your JSON body here:"
   ]
  },
  {
   "cell_type": "code",
   "execution_count": null,
   "id": "a285b316",
   "metadata": {
    "vscode": {
     "languageId": "plaintext"
    }
   },
   "outputs": [],
   "source": []
  },
  {
   "cell_type": "markdown",
   "id": "793e1756",
   "metadata": {},
   "source": [
    "6 Multimodal Embeddings (0.5 marks)\n",
    "AIrtGallery is a cutting-edge digital art marketplace that uses AI to help collectors find artworks that match their interests. The platform employs multimodal AI to understand both images and text descriptions, allowing for semantic search and content-based recommendations.\n",
    "\n",
    "You're working on AIrtGallery's recommendation engine. The system needs to calculate similarity scores between artworks and textual descriptions to suggest relevant pieces to collectors. Each artwork and description is converted into a normalized embedding vector (magnitude = 1), and their similarity is computed using the dot product of these vectors.\n",
    "\n",
    "You're testing the system with the following inputs:\n",
    "\n",
    "Image:\n",
    "Tokyo street at night\n",
    "\n",
    "Text description:\n",
    "Байесовская оценка параметров\n",
    "\n",
    "Your task is to calculate the dot product (cosine similarity) between the normalized embedding vectors of this image and text pair. The result should be a single number between -1 and 1, representing how well the text describes the image.\n",
    "\n",
    "Use Jina AI's CLIP V2 model to generate the embeddings (use defaults: 1024 dimensional vectors with L2 normalization). Enter the final dot product (similarity score) with at least 4 decimal places:\n",
    "\n",
    "Enter the similarity score:"
   ]
  },
  {
   "cell_type": "markdown",
   "id": "c86fae39",
   "metadata": {},
   "source": []
  }
 ],
 "metadata": {
  "language_info": {
   "name": "python"
  }
 },
 "nbformat": 4,
 "nbformat_minor": 5
}
