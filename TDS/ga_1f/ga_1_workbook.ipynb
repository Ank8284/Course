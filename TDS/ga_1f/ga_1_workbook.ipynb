{
 "cells": [
  {
   "cell_type": "markdown",
   "id": "e86fa3f6",
   "metadata": {},
   "source": [
    "# **GA-1** \n",
    "## 10 :  Sort and Filter a JSON Product Catalog (0.5 marks)\n",
    "You’re auditing an e-commerce catalog. Below is a JSON array of 100 products. Each has a category, price, and name.\n",
    "\n",
    "Filter out any product with price < 87.86.\n",
    "Sort the remaining items by:\n",
    "category (A→Z)\n",
    "then price (highest→lowest)\n",
    "then name (A→Z)\n",
    "Paste the final array as a single minified JSON string below. \n",
    "\n",
    "\n",
    "\n"
   ]
  },
  {
   "cell_type": "code",
   "execution_count": 3,
   "id": "95e08c32",
   "metadata": {},
   "outputs": [
    {
     "name": "stdout",
     "output_type": "stream",
     "text": [
      "[{\"category\":\"Apparel\",\"price\":190.19,\"name\":\"Ultra Kit\"},{\"category\":\"Apparel\",\"price\":175.36,\"name\":\"Ultra Widget\"},{\"category\":\"Apparel\",\"price\":145.58,\"name\":\"Eco Kit\"},{\"category\":\"Apparel\",\"price\":145.07,\"name\":\"Smart Set\"},{\"category\":\"Apparel\",\"price\":137.89,\"name\":\"Pro Device\"},{\"category\":\"Apparel\",\"price\":135.1,\"name\":\"Pro Item\"},{\"category\":\"Apparel\",\"price\":115.69,\"name\":\"Mini Tool\"},{\"category\":\"Apparel\",\"price\":109.31,\"name\":\"Pro Kit\"},{\"category\":\"Apparel\",\"price\":88.54,\"name\":\"Deluxe Set\"},{\"category\":\"Books\",\"price\":195.07,\"name\":\"Mini Widget\"},{\"category\":\"Books\",\"price\":194.92,\"name\":\"Ultra Item\"},{\"category\":\"Books\",\"price\":181.83,\"name\":\"Deluxe Widget\"},{\"category\":\"Books\",\"price\":176.49,\"name\":\"Deluxe Kit\"},{\"category\":\"Books\",\"price\":171.02,\"name\":\"Ultra Item\"},{\"category\":\"Books\",\"price\":151.85,\"name\":\"Ultra Tool\"},{\"category\":\"Books\",\"price\":146.16,\"name\":\"Smart Tool\"},{\"category\":\"Books\",\"price\":139.36,\"name\":\"Eco Item\"},{\"category\":\"Books\",\"price\":137.57,\"name\":\"Super Device\"},{\"category\":\"Books\",\"price\":127.48,\"name\":\"Deluxe Widget\"},{\"category\":\"Books\",\"price\":122.72,\"name\":\"Eco Set\"},{\"category\":\"Books\",\"price\":113.78,\"name\":\"Ultra Kit\"},{\"category\":\"Books\",\"price\":113.11,\"name\":\"Eco Item\"},{\"category\":\"Books\",\"price\":97.83,\"name\":\"Pro Tool\"},{\"category\":\"Electronics\",\"price\":189.3,\"name\":\"Pro Set\"},{\"category\":\"Electronics\",\"price\":187.24,\"name\":\"Pro Gadget\"},{\"category\":\"Electronics\",\"price\":183.17,\"name\":\"Pro Tool\"},{\"category\":\"Electronics\",\"price\":183.11,\"name\":\"Super Device\"},{\"category\":\"Electronics\",\"price\":177.35,\"name\":\"Super Kit\"},{\"category\":\"Electronics\",\"price\":171.02,\"name\":\"Deluxe Item\"},{\"category\":\"Electronics\",\"price\":158.87,\"name\":\"Deluxe Item\"},{\"category\":\"Electronics\",\"price\":156.56,\"name\":\"Smart Gadget\"},{\"category\":\"Electronics\",\"price\":131.61,\"name\":\"Eco Set\"},{\"category\":\"Electronics\",\"price\":129.55,\"name\":\"Smart Kit\"},{\"category\":\"Electronics\",\"price\":119.03,\"name\":\"Pro Tool\"},{\"category\":\"Electronics\",\"price\":112.1,\"name\":\"Eco Kit\"},{\"category\":\"Electronics\",\"price\":110.56,\"name\":\"Pro Kit\"},{\"category\":\"Electronics\",\"price\":109.13,\"name\":\"Super Widget\"},{\"category\":\"Electronics\",\"price\":100.25,\"name\":\"Smart Set\"},{\"category\":\"Electronics\",\"price\":88.8,\"name\":\"Smart Kit\"},{\"category\":\"Electronics\",\"price\":88.13,\"name\":\"Eco Item\"},{\"category\":\"Home\",\"price\":192.68,\"name\":\"Deluxe Tool\"},{\"category\":\"Home\",\"price\":165.65,\"name\":\"Eco Kit\"},{\"category\":\"Home\",\"price\":164.38,\"name\":\"Ultra Set\"},{\"category\":\"Home\",\"price\":156.64,\"name\":\"Ultra Gadget\"},{\"category\":\"Home\",\"price\":156.45,\"name\":\"Super Widget\"},{\"category\":\"Home\",\"price\":147.79,\"name\":\"Ultra Item\"},{\"category\":\"Home\",\"price\":147.67,\"name\":\"Smart Kit\"},{\"category\":\"Home\",\"price\":129.62,\"name\":\"Mini Widget\"},{\"category\":\"Home\",\"price\":126.48,\"name\":\"Eco Set\"},{\"category\":\"Home\",\"price\":123.77,\"name\":\"Pro Widget\"},{\"category\":\"Home\",\"price\":115.26,\"name\":\"Super Item\"},{\"category\":\"Home\",\"price\":111.5,\"name\":\"Mini Kit\"},{\"category\":\"Home\",\"price\":110,\"name\":\"Super Item\"},{\"category\":\"Home\",\"price\":109.42,\"name\":\"Eco Item\"},{\"category\":\"Home\",\"price\":105.14,\"name\":\"Pro Kit\"},{\"category\":\"Home\",\"price\":104.02,\"name\":\"Smart Kit\"},{\"category\":\"Home\",\"price\":98.19,\"name\":\"Super Kit\"},{\"category\":\"Home\",\"price\":88.45,\"name\":\"Eco Item\"},{\"category\":\"Toys\",\"price\":192.48,\"name\":\"Pro Widget\"},{\"category\":\"Toys\",\"price\":177.63,\"name\":\"Super Widget\"},{\"category\":\"Toys\",\"price\":171.59,\"name\":\"Smart Set\"},{\"category\":\"Toys\",\"price\":157.67,\"name\":\"Super Gadget\"},{\"category\":\"Toys\",\"price\":156.07,\"name\":\"Super Widget\"},{\"category\":\"Toys\",\"price\":148.26,\"name\":\"Pro Device\"},{\"category\":\"Toys\",\"price\":145.28,\"name\":\"Mini Item\"},{\"category\":\"Toys\",\"price\":140.52,\"name\":\"Deluxe Widget\"},{\"category\":\"Toys\",\"price\":131.88,\"name\":\"Smart Item\"},{\"category\":\"Toys\",\"price\":110.18,\"name\":\"Pro Gadget\"},{\"category\":\"Toys\",\"price\":104.82,\"name\":\"Super Kit\"},{\"category\":\"Toys\",\"price\":101.15,\"name\":\"Deluxe Kit\"}]\n"
     ]
    }
   ],
   "source": [
    "import json \n",
    "with open('data_10.json','r') as f:\n",
    "    data=json.load(f)\n",
    "\n",
    "# Sort the data by category, price (descending), and name\n",
    "# Filter the data to include only items with a price greater than or equal to 87.86\n",
    "m_sorted = sorted(\n",
    "    [i for i in data if i[\"price\"] >= 87.86], \n",
    "    key=lambda x: (x[\"category\"], -x[\"price\"], x[\"name\"])\n",
    ")\n",
    "\n",
    "print(json.dumps(m_sorted, separators=(\",\", \":\")))\n",
    "\n"
   ]
  },
  {
   "cell_type": "markdown",
   "id": "38456fb9",
   "metadata": {},
   "source": [
    "## 11 : Compare JSON Configuration Table (0.75 marks)\n",
    "Case Study: eShopCo Bulk Configuration Audit\n",
    "eShopCo stores its service settings as JSON “tables” where each row includes: key, value, defaultValue, and an enabled flag. After a recent update, you need to verify which settings actually changed their value.\n",
    "\n",
    "Download and unzip:  containing two files: config_old.json and config_new.json, each an array of 577 objects like:\n",
    "\n",
    "|key\t|value\t|defaultValue\t|enabled|\n",
    "|---|---|---|---|\n",
    "|setting1|\t81|\t43|\tfalse|\n",
    "|setting2|\t54|\t45|\ttrue|\n",
    "|setting3|\t80|\t19|\tfalse|\n",
    "|setting4|\t0|\t12|\ttrue|\n",
    "|setting5|\t21|\t29|\tfalse|\n",
    "|…||||\n",
    "\n",
    "\n",
    "How many settings have a different value between the two files?"
   ]
  },
  {
   "cell_type": "code",
   "execution_count": null,
   "id": "a39bfe4e",
   "metadata": {},
   "outputs": [],
   "source": []
  }
 ],
 "metadata": {
  "kernelspec": {
   "display_name": "lab_tds",
   "language": "python",
   "name": "python3"
  },
  "language_info": {
   "codemirror_mode": {
    "name": "ipython",
    "version": 3
   },
   "file_extension": ".py",
   "mimetype": "text/x-python",
   "name": "python",
   "nbconvert_exporter": "python",
   "pygments_lexer": "ipython3",
   "version": "3.10.16"
  }
 },
 "nbformat": 4,
 "nbformat_minor": 5
}
