{
 "cells": [
  {
   "cell_type": "markdown",
   "id": "e86fa3f6",
   "metadata": {},
   "source": [
    "# **GA-1** \n",
    "## 10 :  Sort and Filter a JSON Product Catalog (0.5 marks)\n",
    "You’re auditing an e-commerce catalog. Below is a JSON array of 100 products. Each has a category, price, and name.\n",
    "\n",
    "Filter out any product with price < 87.86.\n",
    "Sort the remaining items by:\n",
    "category (A→Z)\n",
    "then price (highest→lowest)\n",
    "then name (A→Z)\n",
    "Paste the final array as a single minified JSON string below. \n",
    "\n",
    "\n",
    "\n"
   ]
  },
  {
   "cell_type": "code",
   "execution_count": 11,
   "id": "95e08c32",
   "metadata": {},
   "outputs": [
    {
     "name": "stdout",
     "output_type": "stream",
     "text": [
      "[{\"category\":\"Apparel\",\"price\":190.19,\"name\":\"Ultra Kit\"},{\"category\":\"Apparel\",\"price\":175.36,\"name\":\"Ultra Widget\"},{\"category\":\"Apparel\",\"price\":145.58,\"name\":\"Eco Kit\"},{\"category\":\"Apparel\",\"price\":145.07,\"name\":\"Smart Set\"},{\"category\":\"Apparel\",\"price\":137.89,\"name\":\"Pro Device\"},{\"category\":\"Apparel\",\"price\":135.1,\"name\":\"Pro Item\"},{\"category\":\"Apparel\",\"price\":115.69,\"name\":\"Mini Tool\"},{\"category\":\"Apparel\",\"price\":109.31,\"name\":\"Pro Kit\"},{\"category\":\"Apparel\",\"price\":88.54,\"name\":\"Deluxe Set\"},{\"category\":\"Books\",\"price\":195.07,\"name\":\"Mini Widget\"},{\"category\":\"Books\",\"price\":194.92,\"name\":\"Ultra Item\"},{\"category\":\"Books\",\"price\":181.83,\"name\":\"Deluxe Widget\"},{\"category\":\"Books\",\"price\":176.49,\"name\":\"Deluxe Kit\"},{\"category\":\"Books\",\"price\":171.02,\"name\":\"Ultra Item\"},{\"category\":\"Books\",\"price\":151.85,\"name\":\"Ultra Tool\"},{\"category\":\"Books\",\"price\":146.16,\"name\":\"Smart Tool\"},{\"category\":\"Books\",\"price\":139.36,\"name\":\"Eco Item\"},{\"category\":\"Books\",\"price\":137.57,\"name\":\"Super Device\"},{\"category\":\"Books\",\"price\":127.48,\"name\":\"Deluxe Widget\"},{\"category\":\"Books\",\"price\":122.72,\"name\":\"Eco Set\"},{\"category\":\"Books\",\"price\":113.78,\"name\":\"Ultra Kit\"},{\"category\":\"Books\",\"price\":113.11,\"name\":\"Eco Item\"},{\"category\":\"Books\",\"price\":97.83,\"name\":\"Pro Tool\"},{\"category\":\"Electronics\",\"price\":189.3,\"name\":\"Pro Set\"},{\"category\":\"Electronics\",\"price\":187.24,\"name\":\"Pro Gadget\"},{\"category\":\"Electronics\",\"price\":183.17,\"name\":\"Pro Tool\"},{\"category\":\"Electronics\",\"price\":183.11,\"name\":\"Super Device\"},{\"category\":\"Electronics\",\"price\":177.35,\"name\":\"Super Kit\"},{\"category\":\"Electronics\",\"price\":171.02,\"name\":\"Deluxe Item\"},{\"category\":\"Electronics\",\"price\":158.87,\"name\":\"Deluxe Item\"},{\"category\":\"Electronics\",\"price\":156.56,\"name\":\"Smart Gadget\"},{\"category\":\"Electronics\",\"price\":131.61,\"name\":\"Eco Set\"},{\"category\":\"Electronics\",\"price\":129.55,\"name\":\"Smart Kit\"},{\"category\":\"Electronics\",\"price\":119.03,\"name\":\"Pro Tool\"},{\"category\":\"Electronics\",\"price\":112.1,\"name\":\"Eco Kit\"},{\"category\":\"Electronics\",\"price\":110.56,\"name\":\"Pro Kit\"},{\"category\":\"Electronics\",\"price\":109.13,\"name\":\"Super Widget\"},{\"category\":\"Electronics\",\"price\":100.25,\"name\":\"Smart Set\"},{\"category\":\"Electronics\",\"price\":88.8,\"name\":\"Smart Kit\"},{\"category\":\"Electronics\",\"price\":88.13,\"name\":\"Eco Item\"},{\"category\":\"Home\",\"price\":192.68,\"name\":\"Deluxe Tool\"},{\"category\":\"Home\",\"price\":165.65,\"name\":\"Eco Kit\"},{\"category\":\"Home\",\"price\":164.38,\"name\":\"Ultra Set\"},{\"category\":\"Home\",\"price\":156.64,\"name\":\"Ultra Gadget\"},{\"category\":\"Home\",\"price\":156.45,\"name\":\"Super Widget\"},{\"category\":\"Home\",\"price\":147.79,\"name\":\"Ultra Item\"},{\"category\":\"Home\",\"price\":147.67,\"name\":\"Smart Kit\"},{\"category\":\"Home\",\"price\":129.62,\"name\":\"Mini Widget\"},{\"category\":\"Home\",\"price\":126.48,\"name\":\"Eco Set\"},{\"category\":\"Home\",\"price\":123.77,\"name\":\"Pro Widget\"},{\"category\":\"Home\",\"price\":115.26,\"name\":\"Super Item\"},{\"category\":\"Home\",\"price\":111.5,\"name\":\"Mini Kit\"},{\"category\":\"Home\",\"price\":110,\"name\":\"Super Item\"},{\"category\":\"Home\",\"price\":109.42,\"name\":\"Eco Item\"},{\"category\":\"Home\",\"price\":105.14,\"name\":\"Pro Kit\"},{\"category\":\"Home\",\"price\":104.02,\"name\":\"Smart Kit\"},{\"category\":\"Home\",\"price\":98.19,\"name\":\"Super Kit\"},{\"category\":\"Home\",\"price\":88.45,\"name\":\"Eco Item\"},{\"category\":\"Toys\",\"price\":192.48,\"name\":\"Pro Widget\"},{\"category\":\"Toys\",\"price\":177.63,\"name\":\"Super Widget\"},{\"category\":\"Toys\",\"price\":171.59,\"name\":\"Smart Set\"},{\"category\":\"Toys\",\"price\":157.67,\"name\":\"Super Gadget\"},{\"category\":\"Toys\",\"price\":156.07,\"name\":\"Super Widget\"},{\"category\":\"Toys\",\"price\":148.26,\"name\":\"Pro Device\"},{\"category\":\"Toys\",\"price\":145.28,\"name\":\"Mini Item\"},{\"category\":\"Toys\",\"price\":140.52,\"name\":\"Deluxe Widget\"},{\"category\":\"Toys\",\"price\":131.88,\"name\":\"Smart Item\"},{\"category\":\"Toys\",\"price\":110.18,\"name\":\"Pro Gadget\"},{\"category\":\"Toys\",\"price\":104.82,\"name\":\"Super Kit\"},{\"category\":\"Toys\",\"price\":101.15,\"name\":\"Deluxe Kit\"}]\n"
     ]
    }
   ],
   "source": [
    "import json \n",
    "with open('uncomit/data_10.json','r') as f:\n",
    "    data=json.load(f)\n",
    "\n",
    "# Sort the data by category, price (descending), and name\n",
    "# Filter the data to include only items with a price greater than or equal to 87.86\n",
    "m_sorted = sorted(\n",
    "    [i for i in data if i[\"price\"] >= 87.86], \n",
    "    key=lambda x: (x[\"category\"], -x[\"price\"], x[\"name\"])\n",
    ")\n",
    "\n",
    "print(json.dumps(m_sorted, separators=(\",\", \":\")))\n",
    "\n"
   ]
  },
  {
   "cell_type": "markdown",
   "id": "38456fb9",
   "metadata": {},
   "source": [
    "## 11 : Compare JSON Configuration Table (0.75 marks)\n",
    "Case Study: eShopCo Bulk Configuration Audit\n",
    "eShopCo stores its service settings as JSON “tables” where each row includes: key, value, defaultValue, and an enabled flag. After a recent update, you need to verify which settings actually changed their value.\n",
    "\n",
    "Download and unzip:  containing two files: config_old.json and config_new.json, each an array of 577 objects like:\n",
    "\n",
    "|key\t|value\t|defaultValue\t|enabled|\n",
    "|---|---|---|---|\n",
    "|setting1|\t81|\t43|\tfalse|\n",
    "|setting2|\t54|\t45|\ttrue|\n",
    "|setting3|\t80|\t19|\tfalse|\n",
    "|setting4|\t0|\t12|\ttrue|\n",
    "|setting5|\t21|\t29|\tfalse|\n",
    "|…||||\n",
    "\n",
    "\n",
    "How many settings have a different value between the two files?"
   ]
  },
  {
   "cell_type": "code",
   "execution_count": 12,
   "id": "a39bfe4e",
   "metadata": {},
   "outputs": [
    {
     "name": "stdout",
     "output_type": "stream",
     "text": [
      "Number of differences: 66\n"
     ]
    }
   ],
   "source": [
    "import json\n",
    "with open('uncomit/configs/config_new.json', 'r') as f:\n",
    "    new_data = json.load(f)\n",
    "with open('uncomit/configs/config_old.json', 'r') as h:\n",
    "    old_data = json.load(h)\n",
    "\n",
    "# Convert lists to dicts keyed by 'key'\n",
    "new_dict = {item['key']: item for item in new_data}\n",
    "old_dict = {item['key']: item for item in old_data}\n",
    "\n",
    "# Compare the two dictionaries\n",
    "differences = {}\n",
    "count = 0\n",
    "for k in new_dict:\n",
    "    if k in old_dict and new_dict[k]['value'] != old_dict[k]['value']:\n",
    "        count += 1\n",
    "        differences[k] = {\n",
    "            \"old\": old_dict[k]['value'],\n",
    "            \"new\": new_dict[k]['value']\n",
    "        }\n",
    "#print(differences)\n",
    "print(f\"Number of differences: {count}\")"
   ]
  },
  {
   "cell_type": "markdown",
   "id": "c614a5d0",
   "metadata": {},
   "source": [
    "## 12: Multi-cursor edits to convert to JSON (0.5 marks)\n",
    "Download  and use multi-cursors and convert it into a single JSON object,\n",
    " where \n",
    "`key=value pairs are converted into {key: value, key: value, ...}.`\n",
    "\n",
    "What's the result when you paste the JSON at [tools-in-data-science.pages.dev/jsonhash](https://tools-in-data-science.pages.dev/jsonhash) and click the Hash button?"
   ]
  },
  {
   "cell_type": "code",
   "execution_count": 13,
   "id": "4af38af4",
   "metadata": {},
   "outputs": [],
   "source": [
    "with open('uncomit/q-multi-cursor-json .txt', 'r',encoding='utf-8') as f:\n",
    "    data_dict = {line.split(\"=\",1)[0]: line.split('=',1)[1].strip() for line in f if \"=\" in line}\n",
    "\n",
    "# Convert the dictionary to a JSON string   \n",
    "result=json.dumps(data_dict, separators=(\",\", \":\"))\n",
    "# Write the JSON string to a file\n",
    "with open('uncomit/q-multi-cursor-json.json', 'w',encoding='utf-8') as f:\n",
    "    f.write(result)"
   ]
  },
  {
   "cell_type": "markdown",
   "id": "3c96fa64",
   "metadata": {},
   "source": [
    "- Bellow one do the same as the previous one but automatically using **selenium**"
   ]
  },
  {
   "cell_type": "code",
   "execution_count": 14,
   "id": "174bf7f1",
   "metadata": {},
   "outputs": [
    {
     "ename": "NoSuchWindowException",
     "evalue": "Message: no such window: target window already closed\nfrom unknown error: web view not found\n  (Session info: chrome=136.0.7103.114)\nStacktrace:\n\tGetHandleVerifier [0x00007FF61A20CF65+75717]\n\tGetHandleVerifier [0x00007FF61A20CFC0+75808]\n\t(No symbol) [0x00007FF619FD8F9A]\n\t(No symbol) [0x00007FF619FB1B41]\n\t(No symbol) [0x00007FF61A05EC2E]\n\t(No symbol) [0x00007FF61A07ECC2]\n\t(No symbol) [0x00007FF61A057153]\n\t(No symbol) [0x00007FF61A020421]\n\t(No symbol) [0x00007FF61A0211B3]\n\tGetHandleVerifier [0x00007FF61A50D74D+3223469]\n\tGetHandleVerifier [0x00007FF61A507CF2+3200338]\n\tGetHandleVerifier [0x00007FF61A525B23+3322755]\n\tGetHandleVerifier [0x00007FF61A226A3A+180890]\n\tGetHandleVerifier [0x00007FF61A22E13F+211359]\n\tGetHandleVerifier [0x00007FF61A2152B4+109332]\n\tGetHandleVerifier [0x00007FF61A215462+109762]\n\tGetHandleVerifier [0x00007FF61A1FBA79+4825]\n\tBaseThreadInitThunk [0x00007FFBDBC5E8D7+23]\n\tRtlUserThreadStart [0x00007FFBDCD1C5DC+44]\n",
     "output_type": "error",
     "traceback": [
      "\u001b[1;31m---------------------------------------------------------------------------\u001b[0m",
      "\u001b[1;31mNoSuchWindowException\u001b[0m                     Traceback (most recent call last)",
      "Cell \u001b[1;32mIn[14], line 23\u001b[0m\n\u001b[0;32m     20\u001b[0m input_element\u001b[38;5;241m.\u001b[39msend_keys(result)\n\u001b[0;32m     22\u001b[0m \u001b[38;5;66;03m# Click the \"Hash\" button\u001b[39;00m\n\u001b[1;32m---> 23\u001b[0m hash_button \u001b[38;5;241m=\u001b[39m \u001b[43mdriver\u001b[49m\u001b[38;5;241;43m.\u001b[39;49m\u001b[43mfind_element\u001b[49m\u001b[43m(\u001b[49m\u001b[43mBy\u001b[49m\u001b[38;5;241;43m.\u001b[39;49m\u001b[43mCLASS_NAME\u001b[49m\u001b[43m,\u001b[49m\u001b[43m \u001b[49m\u001b[38;5;124;43m\"\u001b[39;49m\u001b[38;5;124;43mbtn-success\u001b[39;49m\u001b[38;5;124;43m\"\u001b[39;49m\u001b[43m)\u001b[49m  \u001b[38;5;66;03m# Button class\u001b[39;00m\n\u001b[0;32m     24\u001b[0m hash_button\u001b[38;5;241m.\u001b[39mclick()  \u001b[38;5;66;03m# Simulate click\u001b[39;00m\n\u001b[0;32m     26\u001b[0m \u001b[38;5;66;03m# Wait for result to appear\u001b[39;00m\n",
      "File \u001b[1;32mc:\\Users\\LENOVO\\miniconda3\\envs\\lab_tds\\lib\\site-packages\\selenium\\webdriver\\remote\\webdriver.py:917\u001b[0m, in \u001b[0;36mWebDriver.find_element\u001b[1;34m(self, by, value)\u001b[0m\n\u001b[0;32m    914\u001b[0m         \u001b[38;5;28;01mraise\u001b[39;00m NoSuchElementException(\u001b[38;5;124mf\u001b[39m\u001b[38;5;124m\"\u001b[39m\u001b[38;5;124mCannot locate relative element with: \u001b[39m\u001b[38;5;132;01m{\u001b[39;00mby\u001b[38;5;241m.\u001b[39mroot\u001b[38;5;132;01m}\u001b[39;00m\u001b[38;5;124m\"\u001b[39m)\n\u001b[0;32m    915\u001b[0m     \u001b[38;5;28;01mreturn\u001b[39;00m elements[\u001b[38;5;241m0\u001b[39m]\n\u001b[1;32m--> 917\u001b[0m \u001b[38;5;28;01mreturn\u001b[39;00m \u001b[38;5;28;43mself\u001b[39;49m\u001b[38;5;241;43m.\u001b[39;49m\u001b[43mexecute\u001b[49m\u001b[43m(\u001b[49m\u001b[43mCommand\u001b[49m\u001b[38;5;241;43m.\u001b[39;49m\u001b[43mFIND_ELEMENT\u001b[49m\u001b[43m,\u001b[49m\u001b[43m \u001b[49m\u001b[43m{\u001b[49m\u001b[38;5;124;43m\"\u001b[39;49m\u001b[38;5;124;43musing\u001b[39;49m\u001b[38;5;124;43m\"\u001b[39;49m\u001b[43m:\u001b[49m\u001b[43m \u001b[49m\u001b[43mby\u001b[49m\u001b[43m,\u001b[49m\u001b[43m \u001b[49m\u001b[38;5;124;43m\"\u001b[39;49m\u001b[38;5;124;43mvalue\u001b[39;49m\u001b[38;5;124;43m\"\u001b[39;49m\u001b[43m:\u001b[49m\u001b[43m \u001b[49m\u001b[43mvalue\u001b[49m\u001b[43m}\u001b[49m\u001b[43m)\u001b[49m[\u001b[38;5;124m\"\u001b[39m\u001b[38;5;124mvalue\u001b[39m\u001b[38;5;124m\"\u001b[39m]\n",
      "File \u001b[1;32mc:\\Users\\LENOVO\\miniconda3\\envs\\lab_tds\\lib\\site-packages\\selenium\\webdriver\\remote\\webdriver.py:448\u001b[0m, in \u001b[0;36mWebDriver.execute\u001b[1;34m(self, driver_command, params)\u001b[0m\n\u001b[0;32m    446\u001b[0m response \u001b[38;5;241m=\u001b[39m \u001b[38;5;28mself\u001b[39m\u001b[38;5;241m.\u001b[39mcommand_executor\u001b[38;5;241m.\u001b[39mexecute(driver_command, params)\n\u001b[0;32m    447\u001b[0m \u001b[38;5;28;01mif\u001b[39;00m response:\n\u001b[1;32m--> 448\u001b[0m     \u001b[38;5;28;43mself\u001b[39;49m\u001b[38;5;241;43m.\u001b[39;49m\u001b[43merror_handler\u001b[49m\u001b[38;5;241;43m.\u001b[39;49m\u001b[43mcheck_response\u001b[49m\u001b[43m(\u001b[49m\u001b[43mresponse\u001b[49m\u001b[43m)\u001b[49m\n\u001b[0;32m    449\u001b[0m     response[\u001b[38;5;124m\"\u001b[39m\u001b[38;5;124mvalue\u001b[39m\u001b[38;5;124m\"\u001b[39m] \u001b[38;5;241m=\u001b[39m \u001b[38;5;28mself\u001b[39m\u001b[38;5;241m.\u001b[39m_unwrap_value(response\u001b[38;5;241m.\u001b[39mget(\u001b[38;5;124m\"\u001b[39m\u001b[38;5;124mvalue\u001b[39m\u001b[38;5;124m\"\u001b[39m, \u001b[38;5;28;01mNone\u001b[39;00m))\n\u001b[0;32m    450\u001b[0m     \u001b[38;5;28;01mreturn\u001b[39;00m response\n",
      "File \u001b[1;32mc:\\Users\\LENOVO\\miniconda3\\envs\\lab_tds\\lib\\site-packages\\selenium\\webdriver\\remote\\errorhandler.py:232\u001b[0m, in \u001b[0;36mErrorHandler.check_response\u001b[1;34m(self, response)\u001b[0m\n\u001b[0;32m    230\u001b[0m         alert_text \u001b[38;5;241m=\u001b[39m value[\u001b[38;5;124m\"\u001b[39m\u001b[38;5;124malert\u001b[39m\u001b[38;5;124m\"\u001b[39m]\u001b[38;5;241m.\u001b[39mget(\u001b[38;5;124m\"\u001b[39m\u001b[38;5;124mtext\u001b[39m\u001b[38;5;124m\"\u001b[39m)\n\u001b[0;32m    231\u001b[0m     \u001b[38;5;28;01mraise\u001b[39;00m exception_class(message, screen, stacktrace, alert_text)  \u001b[38;5;66;03m# type: ignore[call-arg]  # mypy is not smart enough here\u001b[39;00m\n\u001b[1;32m--> 232\u001b[0m \u001b[38;5;28;01mraise\u001b[39;00m exception_class(message, screen, stacktrace)\n",
      "\u001b[1;31mNoSuchWindowException\u001b[0m: Message: no such window: target window already closed\nfrom unknown error: web view not found\n  (Session info: chrome=136.0.7103.114)\nStacktrace:\n\tGetHandleVerifier [0x00007FF61A20CF65+75717]\n\tGetHandleVerifier [0x00007FF61A20CFC0+75808]\n\t(No symbol) [0x00007FF619FD8F9A]\n\t(No symbol) [0x00007FF619FB1B41]\n\t(No symbol) [0x00007FF61A05EC2E]\n\t(No symbol) [0x00007FF61A07ECC2]\n\t(No symbol) [0x00007FF61A057153]\n\t(No symbol) [0x00007FF61A020421]\n\t(No symbol) [0x00007FF61A0211B3]\n\tGetHandleVerifier [0x00007FF61A50D74D+3223469]\n\tGetHandleVerifier [0x00007FF61A507CF2+3200338]\n\tGetHandleVerifier [0x00007FF61A525B23+3322755]\n\tGetHandleVerifier [0x00007FF61A226A3A+180890]\n\tGetHandleVerifier [0x00007FF61A22E13F+211359]\n\tGetHandleVerifier [0x00007FF61A2152B4+109332]\n\tGetHandleVerifier [0x00007FF61A215462+109762]\n\tGetHandleVerifier [0x00007FF61A1FBA79+4825]\n\tBaseThreadInitThunk [0x00007FFBDBC5E8D7+23]\n\tRtlUserThreadStart [0x00007FFBDCD1C5DC+44]\n"
     ]
    }
   ],
   "source": [
    "from selenium import webdriver\n",
    "from selenium.webdriver.common.by import By\n",
    "from selenium.webdriver.common.keys import Keys\n",
    "from selenium.webdriver.support.ui import WebDriverWait\n",
    "from selenium.webdriver.support import expected_conditions as EC\n",
    "import json\n",
    "import time\n",
    "\n",
    "# Convert TXT data to JSON format\n",
    "with open('uncomit/q-multi-cursor-json .txt', 'r', encoding='utf-8') as f:\n",
    "    data_dict = {line.split(\"=\", 1)[0]: line.split(\"=\", 1)[1].strip() for line in f if \"=\" in line}\n",
    "result = json.dumps(data_dict, separators=(\",\", \":\"))\n",
    "\n",
    "# Open website using Selenium\n",
    "driver = webdriver.Chrome()\n",
    "driver.get(\"https://tools-in-data-science.pages.dev/jsonhash\")\n",
    "\n",
    "# Locate input field and paste JSON\n",
    "input_element = driver.find_element(By.TAG_NAME, \"textarea\")\n",
    "input_element.send_keys(result)\n",
    "\n",
    "# Click the \"Hash\" button\n",
    "hash_button = driver.find_element(By.CLASS_NAME, \"btn-success\")  # Button class\n",
    "hash_button.click()  # Simulate click\n",
    "\n",
    "# Wait for result to appear\n",
    "hash_result = WebDriverWait(driver, 10).until(\n",
    "    EC.presence_of_element_located((By.ID, \"result\"))  # Waiting for output field\n",
    ").get_attribute(\"value\")  # Extract text from readonly input\n",
    "\n",
    "print(\"✅ Extracted Hash:\", hash_result)\n",
    "\n",
    "# Close browser\n",
    "driver.quit()"
   ]
  },
  {
   "cell_type": "markdown",
   "id": "b58b6507",
   "metadata": {},
   "source": [
    "## 13: Case Study: eShopCo Promotional Audit\n",
    "eShopCo wants to verify that all featured sale products are correctly tagged in the front-end. Inspect the hidden product list below—each `<li>` represents a product with its promotional classes and a data-discount (percentage).\n",
    "\n",
    "Using a single CSS selector that targets elements with both featured and sale classes, calculate the sum of their data-discount values.\n",
    "\n",
    "Sum of discounts on .featured.sale items:"
   ]
  },
  {
   "cell_type": "code",
   "execution_count": null,
   "id": "8184d411",
   "metadata": {},
   "outputs": [
    {
     "name": "stdout",
     "output_type": "stream",
     "text": [
      "https://exam.sanand.workers.dev/tds-2025-05-ga1\n"
     ]
    },
    {
     "ename": "AttributeError",
     "evalue": "'WebDriver' object has no attribute 'find_elements_by_css_selector'",
     "output_type": "error",
     "traceback": [
      "\u001b[1;31m---------------------------------------------------------------------------\u001b[0m",
      "\u001b[1;31mAttributeError\u001b[0m                            Traceback (most recent call last)",
      "Cell \u001b[1;32mIn[5], line 16\u001b[0m\n\u001b[0;32m     13\u001b[0m     driver\u001b[38;5;241m.\u001b[39mget(link)  \u001b[38;5;66;03m# Replace with actual URL\u001b[39;00m\n\u001b[0;32m     15\u001b[0m     \u001b[38;5;66;03m# Find elements\u001b[39;00m\n\u001b[1;32m---> 16\u001b[0m     items \u001b[38;5;241m=\u001b[39m \u001b[43mdriver\u001b[49m\u001b[38;5;241;43m.\u001b[39;49m\u001b[43mfind_elements_by_css_selector\u001b[49m(\u001b[38;5;124m\"\u001b[39m\u001b[38;5;124m.featured.sale\u001b[39m\u001b[38;5;124m\"\u001b[39m)\n\u001b[0;32m     18\u001b[0m \u001b[38;5;66;03m# Sum the discounts\u001b[39;00m\n\u001b[0;32m     19\u001b[0m total_discount \u001b[38;5;241m=\u001b[39m \u001b[38;5;28msum\u001b[39m(\u001b[38;5;28mfloat\u001b[39m(item\u001b[38;5;241m.\u001b[39mget_attribute(\u001b[38;5;124m'\u001b[39m\u001b[38;5;124mdata-discount\u001b[39m\u001b[38;5;124m'\u001b[39m)) \u001b[38;5;28;01mfor\u001b[39;00m item \u001b[38;5;129;01min\u001b[39;00m items)\n",
      "\u001b[1;31mAttributeError\u001b[0m: 'WebDriver' object has no attribute 'find_elements_by_css_selector'"
     ]
    }
   ],
   "source": [
    "from selenium import webdriver\n",
    "\n",
    "# Start a browser instance\n",
    "driver = webdriver.Chrome()\n",
    "\n",
    "with open( \"uncomit/link.txt\",'r') as f:\n",
    "    link = f.read().strip()  # Read the link from the file\n",
    "print(link)\n",
    "if not link:\n",
    "    print(\"Error: The link is empty. Please provide a valid URL in 'uncomit/link.txt'.\")\n",
    "    driver.quit()\n",
    "else:\n",
    "    driver.get(link)  # Replace with actual URL\n",
    "\n",
    "    # Find elements\n",
    "    items = driver.find_elements_by_css_selector(\".featured.sale\")\n",
    "\n",
    "# Sum the discounts\n",
    "total_discount = sum(float(item.get_attribute('data-discount')) for item in items)\n",
    " \n",
    "print(\"Sum of discounts on .featured.sale items:\", total_discount)\n",
    "\n",
    "driver.quit()"
   ]
  },
  {
   "cell_type": "markdown",
   "id": "4d470dee",
   "metadata": {},
   "source": [
    "# 14 Process files with different encodings (0.75 marks)\n",
    "Download and process the files in  which contains three files with different encodings:\n",
    "* data1.csv: CSV file encoded in CP-1252\n",
    "* data2.csv: CSV file encoded in UTF-8\n",
    "* data3.txt: Tab-separated file encoded in UTF-16\n",
    "Each file has 2 columns: symbol and value. Sum up all the values where the symbol matches ‚ OR „ OR † across all three files.\n",
    "\n",
    "What is the sum of all values associated with these symbols?"
   ]
  },
  {
   "cell_type": "code",
   "execution_count": 17,
   "id": "9c25663d",
   "metadata": {},
   "outputs": [
    {
     "name": "stdout",
     "output_type": "stream",
     "text": [
      "Total sum: 43475\n"
     ]
    }
   ],
   "source": [
    "import pandas as pd\n",
    "\n",
    "# Define the symbols to sum values for\n",
    "target_symbols = {'‚', '„', '†'}\n",
    "\n",
    "# Load the files with proper encoding and separator\n",
    "df1 = pd.read_csv('uncomit/data1.csv', encoding='cp1252')       # CSV with CP-1252\n",
    "df2 = pd.read_csv('uncomit/data2.csv', encoding='utf-8')        # CSV with UTF-8\n",
    "df3 = pd.read_csv('uncomit/data3.txt', encoding='utf-16', sep='\\t')  # TSV with UTF-16\n",
    "\n",
    "# Ensure column names are standardized\n",
    "for df in [df1, df2, df3]:\n",
    "    df.columns = [col.strip().lower() for col in df.columns]\n",
    "\n",
    "# Combine all datasets\n",
    "df_all = pd.concat([df1, df2, df3], ignore_index=True)\n",
    "\n",
    "# Convert 'value' to numeric (safely handles strings or errors)\n",
    "df_all['value'] = pd.to_numeric(df_all['value'], errors='coerce')\n",
    "\n",
    "# Filter rows with target symbols\n",
    "df_filtered = df_all[df_all['symbol'].isin(target_symbols)]\n",
    "\n",
    "# Compute the sum\n",
    "total_sum = df_filtered['value'].sum()\n",
    "\n",
    "print(\"Total sum:\", total_sum)\n"
   ]
  },
  {
   "cell_type": "markdown",
   "id": "f53e9462",
   "metadata": {},
   "source": [
    "# 15 Use GitHub (0.5 marks)\n",
    "\n",
    "Let's make sure you know how to use GitHub. Create a GitHub account if you don't have one. Create a new public repository. Commit a single JSON file called email.json with the value {\"email\": \"22f1001316@ds.study.iitm.ac.in\"} and push it.\n",
    "\n",
    "Enter the raw Github URL of email.json so we can verify it. (It will begin with https://raw.githubusercontent.com/[GITHUB ID]/[REPO NAME]/....)\n"
   ]
  },
  {
   "cell_type": "code",
   "execution_count": null,
   "id": "f37586f2",
   "metadata": {},
   "outputs": [],
   "source": []
  },
  {
   "cell_type": "markdown",
   "id": "08ba3dc8",
   "metadata": {},
   "source": [
    "# 16 Replace across files (0.75 marks)\n",
    "\n",
    "Download  and unzip it into a new folder, then replace all \"IITM\" (in upper, lower, or mixed case) with \"IIT Madras\" in all files. Leave everything as-is - don't change the line endings.\n",
    "\n",
    "What does running cat * | sha256sum in that folder show in bash?"
   ]
  },
  {
   "cell_type": "code",
   "execution_count": null,
   "id": "b07a745a",
   "metadata": {},
   "outputs": [],
   "source": []
  },
  {
   "cell_type": "markdown",
   "id": "e59dbd68",
   "metadata": {},
   "source": [
    "# 17 LLM CLI: Generate Embedding Vector (0.5 marks)\n",
    "\n",
    "## Case Study: eShopCo Semantic Search Prototype\n",
    "You’re adding semantic search to eShopCo’s product catalog. As a first step, generate an embedding for the prompt My email is `22f1001316@ds.study.iitm.ac.in `using the local llm CLI.\n",
    "\n",
    "Follow these steps (see `llm.datasette.io/docs/cli-setup` for full details):\n",
    "\n",
    "Install the CLI: `pip install llm (or pipx install llm)`.\n",
    "Set your OpenAI key: export `OPENAI_API_KEY=YOUR_OPENAI_KEY` (or borrow from a friend).\n",
    "Verify installation: `llm --help`.\n",
    "Then run in your terminal:\n",
    "\n",
    "`llm embed -c 'My email is 22f1001316@ds.study.iitm.ac.in' -m 3-small`"
   ]
  },
  {
   "cell_type": "code",
   "execution_count": null,
   "id": "2f43908c",
   "metadata": {},
   "outputs": [],
   "source": []
  },
  {
   "cell_type": "markdown",
   "id": "5488d6ab",
   "metadata": {},
   "source": [
    "# 18 list files and attributes (0.5 marks)\n",
    "Download  and extract it. Use ls with options to list all files in the folder along with their date and file size.\n",
    "\n",
    "What's the total size of all files at least 3423 bytes large and modified on or after Fri, 11 Feb, 2011, 12:16 am IST?"
   ]
  },
  {
   "cell_type": "code",
   "execution_count": null,
   "id": "17b50fde",
   "metadata": {},
   "outputs": [],
   "source": []
  },
  {
   "cell_type": "markdown",
   "id": "8e62f832",
   "metadata": {},
   "source": [
    "# 19 Move and rename files (0.5 marks)\n",
    "Download  and extract it. Use mv to move all files under folders into an empty folder. Then rename all files replacing each digit with the next. 1 becomes 2, 9 becomes 0, a1b9c.txt becomes a2b0c.txt.\n",
    "\n",
    "What does running grep . * | LC_ALL=C sort | sha256sum in bash on that folder show?"
   ]
  },
  {
   "cell_type": "code",
   "execution_count": null,
   "id": "2e6cb6a4",
   "metadata": {},
   "outputs": [],
   "source": []
  },
  {
   "cell_type": "markdown",
   "id": "2cc08b0c",
   "metadata": {},
   "source": [
    "20 SQL: Average Order Value (0.75 marks)\n",
    "\n",
    "Case Study: eShopCo Order Analytics\n",
    "The orders table records each purchase with columns: status, quantity, and unit_price. You need to calculate the average order value for all orders whose status is shipped (in any casing). Order value is defined as quantity * unit_price.\n",
    "\n",
    "status\tquantity\tunit_price\n",
    "shipped\t7\t36.41\n",
    "SHIPPED\t8\t12.94\n",
    "shipped\t5\t32.73\n",
    "Shipped\t6\t52.74\n",
    "SHIPPED\t5\t35.39\n",
    "…\n",
    "Write the SQL query that returns the average order value for shipped orders (case-insensitive)."
   ]
  }
 ],
 "metadata": {
  "kernelspec": {
   "display_name": "lab_tds",
   "language": "python",
   "name": "python3"
  },
  "language_info": {
   "codemirror_mode": {
    "name": "ipython",
    "version": 3
   },
   "file_extension": ".py",
   "mimetype": "text/x-python",
   "name": "python",
   "nbconvert_exporter": "python",
   "pygments_lexer": "ipython3",
   "version": "3.10.16"
  }
 },
 "nbformat": 4,
 "nbformat_minor": 5
}
