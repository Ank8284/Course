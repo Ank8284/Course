{
 "cells": [
  {
   "cell_type": "markdown",
   "id": "9be0dfb0",
   "metadata": {},
   "source": [
    "# 1 Write documentation in GitHub Flavored Markdown (0.5 marks)\n",
    "Write documentation in Markdown for an imaginary analysis of the number of steps you walked each day for a week, comparing over time and with friends. The Markdown must include at least one instance of these:\n",
    "\n",
    "Top-Level Heading\n",
    "Subheadings\n",
    "Bold Text\n",
    "Italic Text\n",
    "Strikethrough\n",
    "Inline Code\n",
    "Code Block: A fenced code block tagged with erlang, e.g.:\n",
    "\n",
    "```erlang\n",
    "... write code here ...\n",
    "```\n",
    "          \n",
    "Bulleted List\n",
    "Numbered List\n",
    "Task List: Include one checked (- [x] Done) and one unchecked (- [ ] Todo) item\n",
    "Table: At least 1 instance, e.g., | Column A | Column B |\n",
    "Hyperlink\n",
    "Image\n",
    "Blockquote\n",
    "Horizontal Rule\n",
    "HTML Comment: At least 1 instance, e.g., <!-- comment -->\n",
    "Enter your Markdown here:"
   ]
  },
  {
   "cell_type": "code",
   "execution_count": null,
   "id": "d66d16dd",
   "metadata": {},
   "outputs": [],
   "source": [
    "# how\n",
    "## this\n",
    "**bLOd**\n",
    "*italic*\n",
    "~~Strikethrough~~\n",
    "` how `\n",
    "```erlang\n",
    "```\n",
    "- h\n",
    " - h\n",
    "1. how \n",
    "- [ ] task\n",
    "- [x] task\n",
    "\n",
    "| COL | COL |\n",
    "|-|-|\n",
    "|ROW|COL|\n",
    "\n",
    "[Link text](https://url.com)\n",
    "![Image alt](image.jpg)\n",
    "\n",
    "> Blockquote\n",
    "\n",
    "---\n",
    "<!-- COMMENT -->\n"
   ]
  },
  {
   "cell_type": "markdown",
   "id": "2ff59607",
   "metadata": {},
   "source": [
    "# how\n",
    "## this\n",
    "**bLOd**\n",
    "*italic*\n",
    "~~Strikethrough~~\n",
    "` how `\n",
    "```erlang\n",
    "```\n",
    "- h\n",
    " - h\n",
    "1. how \n",
    "- [ ] task\n",
    "- [x] task\n",
    "\n",
    "| COL | COL |\n",
    "|-|-|\n",
    "|ROW|COL|\n",
    "\n",
    "[Link text](https://url.com)\n",
    "![Image alt](image.jpg)\n",
    "\n",
    "> Blockquote\n",
    "\n",
    "---\n",
    "<!-- COMMENT -->\n"
   ]
  },
  {
   "cell_type": "markdown",
   "id": "8fc7e383",
   "metadata": {},
   "source": [
    "# 2 Compress an image (0.75 marks)\n",
    "Case Study: eShopCo Bandwidth Reduction\n",
    "\n",
    "eShopCo, a global e-commerce platform, delivers thousands of product images every day. By ensuring each image is losslessly compressed below 400 bytes, they reduce page load times by 30%, improve search ranking, and cut bandwidth costs—all while maintaining crystal-clear visuals that drive customer engagement.\n",
    "\n",
    "Download the image below and compress it losslessly to an image that is less than 400 bytes.\n",
    "![.](<uncomit/download.png>)\n",
    "By losslessly, we mean that every pixel in the new image should be identical to the original image.\n",
    "\n",
    "Upload your losslessly compressed image (less than 400 bytes)"
   ]
  },
  {
   "cell_type": "markdown",
   "id": "4857b542",
   "metadata": {},
   "source": [
    "Sol:- Well this is a good site to compress image as it is lossless and it is free to use.\n",
    "[Click on this visit site to Compress Image](https://squoosh.app/editor):"
   ]
  },
  {
   "cell_type": "code",
   "execution_count": 4,
   "id": "9914e94d",
   "metadata": {},
   "outputs": [
    {
     "name": "stdout",
     "output_type": "stream",
     "text": [
      "Compressed image size: 1821 bytes\n",
      "Compression exceeded 400 bytes. Try reducing dimensions or metadata.\n"
     ]
    }
   ],
   "source": [
    "from PIL import Image\n",
    "\n",
    "# Load the image\n",
    "image_path = \"uncomit/download.png\"\n",
    "img = Image.open(image_path)\n",
    "\n",
    "# Save with optimal compression\n",
    "compressed_path = \"uncomit/compressed.png\"\n",
    "img.save(compressed_path, optimize=True)\n",
    "\n",
    "# Check file size\n",
    "import os\n",
    "compressed_size = os.path.getsize(compressed_path)\n",
    "\n",
    "print(f\"Compressed image size: {compressed_size} bytes\")\n",
    "if compressed_size <= 400:\n",
    "    print(\"Compression successful!\")\n",
    "else:\n",
    "    print(\"Compression exceeded 400 bytes. Try reducing dimensions or metadata.\")"
   ]
  },
  {
   "cell_type": "markdown",
   "id": "851cc842",
   "metadata": {},
   "source": [
    "#3 Host your portfolio on GitHub Pages (0.5 marks)\n",
    "\n",
    "Publish a page using GitHub Pages that showcases your work. Ensure that your email address 22f1001316@ds.study.iitm.ac.in is in the page's HTML.\n",
    "\n",
    "GitHub pages are served via CloudFlare which obfuscates emails. So, wrap your email address inside a:\n",
    "\n",
    "<!--email_off-->22f10013@ds.study.iitm.ac.in<!--/email_off-->\n",
    "What is the GitHub Pages URL? It might look like: https://[USER].github.io/[REPO]/\n",
    "If a recent change that's not reflected, add ?v=1, ?v=2 to the URL to bust the cache."
   ]
  }
 ],
 "metadata": {
  "kernelspec": {
   "display_name": "lab_tds",
   "language": "python",
   "name": "python3"
  },
  "language_info": {
   "codemirror_mode": {
    "name": "ipython",
    "version": 3
   },
   "file_extension": ".py",
   "mimetype": "text/x-python",
   "name": "python",
   "nbconvert_exporter": "python",
   "pygments_lexer": "ipython3",
   "version": "3.10.16"
  }
 },
 "nbformat": 4,
 "nbformat_minor": 5
}
